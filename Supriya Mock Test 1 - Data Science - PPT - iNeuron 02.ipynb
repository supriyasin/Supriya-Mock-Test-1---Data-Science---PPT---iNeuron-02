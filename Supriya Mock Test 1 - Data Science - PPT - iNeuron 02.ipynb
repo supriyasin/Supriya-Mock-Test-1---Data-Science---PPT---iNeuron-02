{
 "cells": [
  {
   "cell_type": "code",
   "execution_count": null,
   "id": "ee1c1930",
   "metadata": {},
   "outputs": [],
   "source": [
    "#18. Implement a decorator function called ‘timer’ that measures the execution time of a function. The ‘timer’ \n",
    "decorator should print the time taken by the decorated function to execute. Use the ‘time’ module in Python to \n",
    "calculate the execution time.\n",
    "\n",
    "Example:\n",
    "\n",
    "import time\n",
    "\n",
    "@timer\n",
    "def my_function():\n",
    "    # Function code goes here\n",
    "    time.sleep(2)\n",
    "\n",
    "my_function()\n",
    "\n",
    "Output:\n",
    "\"Execution time: 2.00123 seconds\"\n",
    "\n",
    "\"\"\"Here's an example of how you can implement the timer decorator function using the time module in Python:\n",
    "\n",
    "import time\n",
    "\n",
    "def timer(func):\n",
    "    def wrapper(*args, **kwargs):\n",
    "        start_time = time.time()\n",
    "        result = func(*args, **kwargs)\n",
    "        end_time = time.time()\n",
    "        execution_time = end_time - start_time\n",
    "        print(f\"Execution time: {execution_time:.5f} seconds\")\n",
    "        return result\n",
    "    return wrapper\n",
    "\n",
    "@timer\n",
    "def my_function():\n",
    "    # Function code goes here\n",
    "    time.sleep(2)\n",
    "\n",
    "my_function()\n",
    "  In this example, the timer function is defined as a decorator. It takes a function func as an argument and returns\n",
    "  a wrapper function wrapper. The wrapper function measures the execution time of the decorated function by recording \n",
    "  the start time before calling the function and the end time after the function finishes executing. It then calculates\n",
    "  the execution time by subtracting the start time from the end time.\n",
    "\n",
    "  The execution time is printed in the format specified in the example output using f-string formatting\n",
    "  ({execution_time:.5f}). Finally, the wrapper function returns the result of the decorated function.\"\"\""
   ]
  }
 ],
 "metadata": {
  "kernelspec": {
   "display_name": "Python 3 (ipykernel)",
   "language": "python",
   "name": "python3"
  },
  "language_info": {
   "codemirror_mode": {
    "name": "ipython",
    "version": 3
   },
   "file_extension": ".py",
   "mimetype": "text/x-python",
   "name": "python",
   "nbconvert_exporter": "python",
   "pygments_lexer": "ipython3",
   "version": "3.9.12"
  }
 },
 "nbformat": 4,
 "nbformat_minor": 5
}
